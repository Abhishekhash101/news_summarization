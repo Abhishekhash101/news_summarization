{
 "cells": [
  {
   "cell_type": "code",
   "execution_count": 1,
   "id": "1dd4b9b0",
   "metadata": {},
   "outputs": [
    {
     "name": "stdout",
     "output_type": "stream",
     "text": [
      "Title: RCB hoping for strong Virat Kohli performance in IPL final, star batter has mixed record in title outings\n",
      "\n",
      "Former India skipper Virat Kohli has performed well many times in big games and Royal Challengers Bengaluru will be hoping for a strong performance from him in the Indian Premier League (IPL) 2025 final against Punjab Kings (PBKS) on Tuesday.The Rajat Patidar-led side and the Punjab-based franchise will lock horns against each other in the final of the 18th edition of the cash-rich league at the Narendra Modi Stadium in Ahmedabad to end their title drought in the competition.If Virat lifts the IPL 2025 title with his team, he would have won all major white-ball cricket tournaments. Earlier, he had won the Cricket World Cup (2011), T20 World Cup (2024), Champions Trophy (2013, 2025) and the U19 World Cup (2008).Virat has been RCB's go-to man with the bat this season (IPL 2025), having accumulated 614 runs at an average of 55.82 and a strike rate of 146.53 this season.Virat has so far featured in three IPL finals: 2009 (7 against now-defunct Deccan Chargers ), 2011 (35 against Chennai Super Kings), and 2016 (54 against Sunrisers Hyderabad ).Kohli has also played some T20I finals as well for India, where he has managed 77 (against Sri Lanka in the T20 WC 2014), 41* (against Bangladesh in the Asia Cup 2016), and 76 (T20 WC 2024).The stalwart batter so far has seven T20 finals, where he has managed to score 301 runs at an average of 50.16 with the help of three half-centuries, with his best score of 77.In the 50-over format, the right-hand batter has played seven finals which include U19 WC 2008 (19 vs South Africa), Asia Cup 2010 (28 vs Sri Lanka),Cricket World Cup 2011 (35 vs Sri Lanka), Champions Trophy 2013 (43 vs England), Champions Trophy 2017 (5 vs Pakistan), Cricket World Cup 2023 (54 vs Australia), and Champions Trophy 2025 (1 vs New Zealand).In Tests, the 36-year-old player has featured in two World Test Championship finals in 2021 (44, 13) and 2023 (14, 49).Across all formats, the right-hand batter has featured in 16 finals, where he has scored 606 runs at an average of 35.64 with four fifties and has a best score of 77.Kohli has played 14 white ball cricket finals so far, where he has scored 486 runs at an average of 37.38 with a highest score of 77.In the last five finals (CT 2025, T20 WC 2024, WC 2023, WTC 2021 and 2023), Kohli has scored just 251 runs in seven innings at an average of 35.85 with the help of two fifties.\n"
     ]
    }
   ],
   "source": [
    "from newspaper import Article\n",
    "\n",
    "# URL of the article\n",
    "url = 'https://economictimes.indiatimes.com/news/sports/rcb-hoping-for-strong-virat-kohli-performance-in-ipl-final-star-batter-has-mixed-record-in-title-outings/articleshow/121596278.cms'\n",
    "\n",
    "try:\n",
    "    article = Article(url)\n",
    "    \n",
    "    article.download()\n",
    "    article.parse()\n",
    "    \n",
    "    print(f\"Title: {article.title}\\n\")\n",
    "\n",
    "    content=list(article.text.split('\\n'))\n",
    "    cont_len=[]\n",
    "    for i in content: \n",
    "        cont_len.append(len(i))\n",
    "    count_len=sorted(cont_len)\n",
    "    bekar_content=count_len[len(count_len)-2]\n",
    "\n",
    "    for i in content:\n",
    "        if len(i)>bekar_content:\n",
    "            print(i)\n",
    "\n",
    "except Exception as e:\n",
    "    print(f\"Error: {str(e)}\")\n"
   ]
  },
  {
   "cell_type": "code",
   "execution_count": null,
   "id": "cef24fe6",
   "metadata": {},
   "outputs": [],
   "source": []
  }
 ],
 "metadata": {
  "kernelspec": {
   "display_name": "env",
   "language": "python",
   "name": "python3"
  },
  "language_info": {
   "codemirror_mode": {
    "name": "ipython",
    "version": 3
   },
   "file_extension": ".py",
   "mimetype": "text/x-python",
   "name": "python",
   "nbconvert_exporter": "python",
   "pygments_lexer": "ipython3",
   "version": "3.12.5"
  }
 },
 "nbformat": 4,
 "nbformat_minor": 5
}
