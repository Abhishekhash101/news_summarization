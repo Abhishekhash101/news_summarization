{
 "cells": [
  {
   "cell_type": "code",
   "execution_count": 1,
   "id": "b8df7db6",
   "metadata": {},
   "outputs": [
    {
     "name": "stderr",
     "output_type": "stream",
     "text": [
      "c:\\Users\\abhis\\OneDrive\\Desktop\\Project 1\\env\\Lib\\site-packages\\tqdm\\auto.py:21: TqdmWarning: IProgress not found. Please update jupyter and ipywidgets. See https://ipywidgets.readthedocs.io/en/stable/user_install.html\n",
      "  from .autonotebook import tqdm as notebook_tqdm\n",
      "Device set to use cpu\n"
     ]
    }
   ],
   "source": [
    "# Use a pipeline as a high-level helper\n",
    "from transformers import pipeline\n",
    "\n",
    "pipe = pipeline(\"summarization\", model=\"facebook/bart-large-cnn\")"
   ]
  },
  {
   "cell_type": "code",
   "execution_count": 2,
   "id": "4da1039e",
   "metadata": {},
   "outputs": [],
   "source": [
    "article=''' \n",
    "    Musk followed up with another post claiming the bill \"will massively increase the already gigantic budget deficit to $2.5 trillion (!!!) and burden America citizens with crushingly unsustainable debt.\" He later posted that \"Congress is making America bankrupt.\"\n",
    "\n",
    "The \"One Big Beautiful Bill Act\" legislation extends Trump's 2017 tax cuts and boosts spending for the military and border security -- while making some cuts to Medicaid, SNAP and other assistance programs. It will also add about $3.8 trillion to the federal government's $36.2 trillion in debt over the next decade, according to the nonpartisan Congressional Budget Office.\n",
    "'''"
   ]
  },
  {
   "cell_type": "code",
   "execution_count": 3,
   "id": "9fe1484d",
   "metadata": {},
   "outputs": [],
   "source": [
    "sum=pipe(article,max_length=100,min_length =10,do_sample=False)"
   ]
  },
  {
   "cell_type": "code",
   "execution_count": 4,
   "id": "ac7bdf36",
   "metadata": {},
   "outputs": [
    {
     "data": {
      "text/plain": [
       "'The \"One Big Beautiful Bill Act\" extends Trump\\'s 2017 tax cuts and boosts spending for the military and border security. It will also add about $3.8 trillion to the federal government\\'s $36.2 trillion in debt over the next decade, the Congressional Budget Office says.'"
      ]
     },
     "execution_count": 4,
     "metadata": {},
     "output_type": "execute_result"
    }
   ],
   "source": [
    "sum[0]['summary_text']"
   ]
  },
  {
   "cell_type": "code",
   "execution_count": null,
   "id": "14e69cd7",
   "metadata": {},
   "outputs": [],
   "source": []
  }
 ],
 "metadata": {
  "kernelspec": {
   "display_name": "env",
   "language": "python",
   "name": "python3"
  },
  "language_info": {
   "codemirror_mode": {
    "name": "ipython",
    "version": 3
   },
   "file_extension": ".py",
   "mimetype": "text/x-python",
   "name": "python",
   "nbconvert_exporter": "python",
   "pygments_lexer": "ipython3",
   "version": "3.12.5"
  }
 },
 "nbformat": 4,
 "nbformat_minor": 5
}
